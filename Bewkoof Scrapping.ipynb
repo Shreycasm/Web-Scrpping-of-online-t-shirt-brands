{
 "cells": [
  {
   "cell_type": "code",
   "execution_count": 1,
   "id": "d95da8ef",
   "metadata": {
    "ExecuteTime": {
     "end_time": "2024-08-03T05:41:56.551988Z",
     "start_time": "2024-08-03T05:41:55.775948Z"
    }
   },
   "outputs": [],
   "source": [
    "import numpy as np\n",
    "import pandas as pd\n",
    "from bs4 import BeautifulSoup\n",
    "import requests\n",
    "from selenium import webdriver\n",
    "from selenium.webdriver.common.by import By\n",
    "from selenium.webdriver.support.ui import WebDriverWait\n",
    "from selenium.webdriver.support import expected_conditions as EC\n",
    "import time\n",
    "import json\n"
   ]
  },
  {
   "cell_type": "code",
   "execution_count": 2,
   "id": "0665643f",
   "metadata": {
    "ExecuteTime": {
     "end_time": "2024-08-02T22:14:22.924661Z",
     "start_time": "2024-08-02T22:14:20.933093Z"
    }
   },
   "outputs": [],
   "source": [
    "driver3 = webdriver.Chrome()"
   ]
  },
  {
   "cell_type": "code",
   "execution_count": 3,
   "id": "4aecfd39",
   "metadata": {
    "ExecuteTime": {
     "end_time": "2024-08-02T22:14:22.956802Z",
     "start_time": "2024-08-02T22:14:22.941699Z"
    }
   },
   "outputs": [],
   "source": [
    "cat_dict = {\"oversized\":{'link':'https://www.bewakoof.com/oversized-t-shirts-for-men','each_shirt_link':[]},\n",
    "\"classic\":{'link':'https://www.bewakoof.com/classic-t-shirt-for-men','each_shirt_link':[]},\n",
    "\"polo\":{'link':'https://www.bewakoof.com/polo-t-shirts-for-men' ,'each_shirt_link':[]},\n",
    "\"full_sleve\":{'link':'https://www.bewakoof.com/men-full-sleeve-t-shirts','each_shirt_link':[]},\n",
    "\"plain\":{'link':'https://www.bewakoof.com/men-plain-t-shirts', \"each_shirt_link\":[]},\n",
    "\"printed\":{'link':'https://www.bewakoof.com/men-printed-tshirts', \"each_shirt_link\":[]}}\n"
   ]
  },
  {
   "cell_type": "code",
   "execution_count": 4,
   "id": "a196e8f9",
   "metadata": {
    "ExecuteTime": {
     "end_time": "2024-08-02T22:14:25.092932Z",
     "start_time": "2024-08-02T22:14:22.965827Z"
    }
   },
   "outputs": [],
   "source": [
    "driver3.get(cat_dict[\"plain\"][\"link\"])"
   ]
  },
  {
   "cell_type": "code",
   "execution_count": 5,
   "id": "04cb48a0",
   "metadata": {
    "ExecuteTime": {
     "end_time": "2024-08-02T22:14:35.425099Z",
     "start_time": "2024-08-02T22:14:25.095940Z"
    }
   },
   "outputs": [],
   "source": [
    "\n",
    "old_height = driver3.execute_script('return document.body.scrollHeight')\n",
    "while True:\n",
    "    driver3.execute_script('window.scrollTo(0, document.body.scrollHeight)')\n",
    "    time.sleep(1)\n",
    "\n",
    "    new_height = driver3.execute_script('return document.body.scrollHeight')\n",
    "    if new_height == old_height:\n",
    "        break\n",
    "    old_height = new_height"
   ]
  },
  {
   "cell_type": "code",
   "execution_count": 6,
   "id": "0db90e3f",
   "metadata": {
    "ExecuteTime": {
     "end_time": "2024-08-02T22:14:37.326635Z",
     "start_time": "2024-08-02T22:14:35.431125Z"
    }
   },
   "outputs": [],
   "source": [
    "all_containers_link = driver3.find_elements(By.XPATH, '//a[@class=\"col-sm-4 col-xs-6 px-2\"]')\n",
    "for container in all_containers_link:\n",
    "        cat_dict[\"plain\"][\"each_shirt_link\"].append(container.get_attribute('href'))\n",
    "\n",
    "cat_dict[\"plain\"][\"each_shirt_link\"] = list(set(cat_dict[\"plain\"][\"each_shirt_link\"]))"
   ]
  },
  {
   "cell_type": "code",
   "execution_count": 7,
   "id": "cc9ea243",
   "metadata": {
    "ExecuteTime": {
     "end_time": "2024-08-02T22:14:38.388099Z",
     "start_time": "2024-08-02T22:14:37.327641Z"
    }
   },
   "outputs": [],
   "source": [
    "driver3.get(cat_dict[\"printed\"][\"link\"])"
   ]
  },
  {
   "cell_type": "code",
   "execution_count": 9,
   "id": "b2759ffc",
   "metadata": {
    "ExecuteTime": {
     "end_time": "2024-08-02T22:24:50.337195Z",
     "start_time": "2024-08-02T22:24:49.241822Z"
    }
   },
   "outputs": [],
   "source": [
    "\n",
    "old_height = driver3.execute_script('return document.body.scrollHeight')\n",
    "while True:\n",
    "    driver3.execute_script('window.scrollTo(0, document.body.scrollHeight)')\n",
    "    time.sleep(1)\n",
    "\n",
    "    new_height = driver3.execute_script('return document.body.scrollHeight')\n",
    "    if new_height == old_height:\n",
    "        break\n",
    "    old_height = new_height"
   ]
  },
  {
   "cell_type": "code",
   "execution_count": 10,
   "id": "e644d8a0",
   "metadata": {
    "ExecuteTime": {
     "end_time": "2024-08-02T22:25:10.097247Z",
     "start_time": "2024-08-02T22:24:57.332114Z"
    }
   },
   "outputs": [],
   "source": [
    "all_containers_link = driver3.find_elements(By.XPATH, '//a[@class=\"col-sm-4 col-xs-6 px-2\"]')\n",
    "for container in all_containers_link:\n",
    "        cat_dict[\"printed\"][\"each_shirt_link\"].append(container.get_attribute('href'))\n",
    "\n",
    "cat_dict[\"printed\"][\"each_shirt_link\"] = list(set(cat_dict[\"printed\"][\"each_shirt_link\"]))"
   ]
  },
  {
   "cell_type": "code",
   "execution_count": 13,
   "id": "8569b957",
   "metadata": {
    "ExecuteTime": {
     "end_time": "2024-08-02T22:25:25.279137Z",
     "start_time": "2024-08-02T22:25:23.711046Z"
    }
   },
   "outputs": [],
   "source": [
    "driver3.get(cat_dict[\"oversized\"][\"link\"])"
   ]
  },
  {
   "cell_type": "code",
   "execution_count": 14,
   "id": "5666c92a",
   "metadata": {
    "ExecuteTime": {
     "end_time": "2024-08-02T22:25:28.264284Z",
     "start_time": "2024-08-02T22:25:25.846654Z"
    }
   },
   "outputs": [],
   "source": [
    "\n",
    "old_height = driver3.execute_script('return document.body.scrollHeight')\n",
    "while True:\n",
    "    driver3.execute_script('window.scrollTo(0, document.body.scrollHeight)')\n",
    "    time.sleep(1)\n",
    "\n",
    "    new_height = driver3.execute_script('return document.body.scrollHeight')\n",
    "    if new_height == old_height:\n",
    "        break\n",
    "    old_height = new_height"
   ]
  },
  {
   "cell_type": "code",
   "execution_count": 15,
   "id": "74d58f6a",
   "metadata": {
    "ExecuteTime": {
     "end_time": "2024-08-02T22:25:30.005520Z",
     "start_time": "2024-08-02T22:25:29.623329Z"
    }
   },
   "outputs": [],
   "source": [
    "all_containers_link = driver3.find_elements(By.XPATH, '//a[@class=\"col-sm-4 col-xs-6 px-2\"]')\n",
    "for container in all_containers_link:\n",
    "        cat_dict[\"oversized\"][\"each_shirt_link\"].append(container.get_attribute('href'))\n",
    "\n",
    "cat_dict[\"oversized\"][\"each_shirt_link\"] = list(set(cat_dict[\"oversized\"][\"each_shirt_link\"]))\n"
   ]
  },
  {
   "cell_type": "code",
   "execution_count": 16,
   "id": "197f169b",
   "metadata": {
    "ExecuteTime": {
     "end_time": "2024-08-02T22:25:31.814497Z",
     "start_time": "2024-08-02T22:25:30.593435Z"
    }
   },
   "outputs": [],
   "source": [
    "driver3.get(cat_dict[\"classic\"][\"link\"])"
   ]
  },
  {
   "cell_type": "code",
   "execution_count": 17,
   "id": "05c1f43f",
   "metadata": {
    "ExecuteTime": {
     "end_time": "2024-08-02T22:25:33.556100Z",
     "start_time": "2024-08-02T22:25:32.288842Z"
    }
   },
   "outputs": [],
   "source": [
    "\n",
    "old_height = driver3.execute_script('return document.body.scrollHeight')\n",
    "while True:\n",
    "    driver3.execute_script('window.scrollTo(0, document.body.scrollHeight)')\n",
    "    time.sleep(1)\n",
    "\n",
    "    new_height = driver3.execute_script('return document.body.scrollHeight')\n",
    "    if new_height == old_height:\n",
    "        break\n",
    "    old_height = new_height"
   ]
  },
  {
   "cell_type": "code",
   "execution_count": 18,
   "id": "529518aa",
   "metadata": {
    "ExecuteTime": {
     "end_time": "2024-08-02T22:25:34.992145Z",
     "start_time": "2024-08-02T22:25:34.654387Z"
    }
   },
   "outputs": [],
   "source": [
    "all_containers_link = driver3.find_elements(By.XPATH, '//a[@class=\"col-sm-4 col-xs-6 px-2\"]')\n",
    "for container in all_containers_link:\n",
    "        cat_dict[\"classic\"][\"each_shirt_link\"].append(container.get_attribute('href'))\n",
    "\n",
    "cat_dict[\"classic\"][\"each_shirt_link\"] = list(set(cat_dict[\"classic\"][\"each_shirt_link\"]))"
   ]
  },
  {
   "cell_type": "code",
   "execution_count": 19,
   "id": "4ce3a9e6",
   "metadata": {
    "ExecuteTime": {
     "end_time": "2024-08-02T22:25:37.830500Z",
     "start_time": "2024-08-02T22:25:36.067135Z"
    }
   },
   "outputs": [],
   "source": [
    "driver3.get(cat_dict[\"polo\"][\"link\"])"
   ]
  },
  {
   "cell_type": "code",
   "execution_count": 20,
   "id": "597a4071",
   "metadata": {
    "ExecuteTime": {
     "end_time": "2024-08-02T22:25:39.903567Z",
     "start_time": "2024-08-02T22:25:38.552384Z"
    }
   },
   "outputs": [],
   "source": [
    "\n",
    "old_height = driver3.execute_script('return document.body.scrollHeight')\n",
    "while True:\n",
    "    driver3.execute_script('window.scrollTo(0, document.body.scrollHeight)')\n",
    "    time.sleep(1)\n",
    "\n",
    "    new_height = driver3.execute_script('return document.body.scrollHeight')\n",
    "    if new_height == old_height:\n",
    "        break\n",
    "    old_height = new_height"
   ]
  },
  {
   "cell_type": "code",
   "execution_count": 21,
   "id": "e3d9e761",
   "metadata": {
    "ExecuteTime": {
     "end_time": "2024-08-02T22:25:41.661751Z",
     "start_time": "2024-08-02T22:25:40.467059Z"
    }
   },
   "outputs": [],
   "source": [
    "all_containers_link = driver3.find_elements(By.XPATH, '//a[@class=\"col-sm-4 col-xs-6 px-2\"]')\n",
    "for container in all_containers_link:\n",
    "        cat_dict[\"polo\"][\"each_shirt_link\"].append(container.get_attribute('href'))\n",
    "\n",
    "cat_dict[\"polo\"][\"each_shirt_link\"] = list(set(cat_dict[\"polo\"][\"each_shirt_link\"]))\n"
   ]
  },
  {
   "cell_type": "code",
   "execution_count": 22,
   "id": "d6d46187",
   "metadata": {
    "ExecuteTime": {
     "end_time": "2024-08-02T22:25:43.669650Z",
     "start_time": "2024-08-02T22:25:42.168133Z"
    }
   },
   "outputs": [],
   "source": [
    "driver3.get(cat_dict[\"full_sleve\"][\"link\"])"
   ]
  },
  {
   "cell_type": "code",
   "execution_count": 23,
   "id": "a1f25f48",
   "metadata": {
    "ExecuteTime": {
     "end_time": "2024-08-02T22:25:47.088021Z",
     "start_time": "2024-08-02T22:25:44.855200Z"
    }
   },
   "outputs": [],
   "source": [
    "\n",
    "old_height = driver3.execute_script('return document.body.scrollHeight')\n",
    "while True:\n",
    "    driver3.execute_script('window.scrollTo(0, document.body.scrollHeight)')\n",
    "    time.sleep(1)\n",
    "\n",
    "    new_height = driver3.execute_script('return document.body.scrollHeight')\n",
    "    if new_height == old_height:\n",
    "        break\n",
    "    old_height = new_height\n",
    "\n",
    "\n"
   ]
  },
  {
   "cell_type": "code",
   "execution_count": 24,
   "id": "45fa9330",
   "metadata": {
    "ExecuteTime": {
     "end_time": "2024-08-02T22:25:48.994389Z",
     "start_time": "2024-08-02T22:25:47.619515Z"
    }
   },
   "outputs": [],
   "source": [
    "all_containers_link = driver3.find_elements(By.XPATH, '//a[@class=\"col-sm-4 col-xs-6 px-2\"]')\n",
    "for container in all_containers_link:\n",
    "        cat_dict[\"full_sleve\"][\"each_shirt_link\"].append(container.get_attribute('href'))\n",
    "        \n",
    "cat_dict[\"full_sleve\"][\"each_shirt_link\"] = list(set(cat_dict[\"full_sleve\"][\"each_shirt_link\"]))\n"
   ]
  },
  {
   "cell_type": "code",
   "execution_count": 25,
   "id": "85f4fba7",
   "metadata": {
    "ExecuteTime": {
     "end_time": "2024-08-02T22:25:49.410874Z",
     "start_time": "2024-08-02T22:25:49.401605Z"
    }
   },
   "outputs": [
    {
     "data": {
      "text/plain": [
       "{'link': 'https://www.bewakoof.com/men-full-sleeve-t-shirts',\n",
       " 'each_shirt_link': ['https://www.bewakoof.com/p/men-black-plain-plain-t-shirt',\n",
       "  'https://www.bewakoof.com/p/mens-black-mugiwara-crew-graphic-printed-oversized-t-shirt',\n",
       "  'https://www.bewakoof.com/p/trust-your-ability-full-sleeve-t-shirts-navy-blue',\n",
       "  'https://www.bewakoof.com/p/mens-grey-super-loose-t-shirt-23',\n",
       "  'https://www.bewakoof.com/p/moon-knight-2-0-full-sleeve-t-shirt',\n",
       "  'https://www.bewakoof.com/p/men-lilac-plain-plain-t-shirt',\n",
       "  'https://www.bewakoof.com/p/witcher-of-rivia-white-full-sleeve-for-men',\n",
       "  'https://www.bewakoof.com/p/mens-jet-black-explorer-nasa-graphic-printed-oversized-t-shirt',\n",
       "  'https://www.bewakoof.com/p/mens-green-more-cheese-graphic-printed-oversized-t-shirt',\n",
       "  'https://www.bewakoof.com/custom-design?pid=625511',\n",
       "  'https://www.bewakoof.com/p/mens-black-cosmic-astro-graphic-printed-oversized-t-shirt',\n",
       "  'https://www.bewakoof.com/p/mens-solid-t-shirt-1',\n",
       "  'https://www.bewakoof.com/p/white-plain-full-sleeve-round-neck-men-t-shirt',\n",
       "  'https://www.bewakoof.com/p/mens-brown-beast-within-2-0-oversize-fit-full-sleeve-t-shirt',\n",
       "  'https://www.bewakoof.com/p/mens-black-oversized-acid-wash-hooded-t-shirt-46',\n",
       "  'https://www.bewakoof.com/p/mens-black-king-black-panther-graphic-printed-oversized-full-sleeve-t-shirt',\n",
       "  'https://www.bewakoof.com/p/men-minions-me-want-banana-printed-t-shirt',\n",
       "  'https://www.bewakoof.com/p/mens-green-move-on-graphic-printed-oversized-t-shirt',\n",
       "  'https://www.bewakoof.com/p/mens-jet-black-dream-graphic-printed-oversized-t-shirt',\n",
       "  'https://www.bewakoof.com/p/torque-full-sleeve-t-shirt',\n",
       "  'https://www.bewakoof.com/p/off-road-jeep-full-sleeve-t-shirt-navy-blue',\n",
       "  'https://www.bewakoof.com/p/mens-grey-eternity-graphic-printed-oversized-t-shirt-men',\n",
       "  'https://www.bewakoof.com/p/mens-jet-black-tripping-monkey-graphic-printed-oversized-t-shirt',\n",
       "  'https://www.bewakoof.com/p/mens-jet-black-good-vibes-2-0-graphic-printed-oversized-t-shirt',\n",
       "  'https://www.bewakoof.com/p/joker-cards-full-sleeve-t-shirt-for-men',\n",
       "  'https://www.bewakoof.com/p/mens-granite-green-printed-oversized-t-shirt-men',\n",
       "  'https://www.bewakoof.com/p/mens-jet-black-batman-riddle-bml-graphic-printed-oversized-t-shirt',\n",
       "  'https://www.bewakoof.com/p/anonymous-mask-full-sleeve-round-neck-men-t-shirt',\n",
       "  'https://www.bewakoof.com/p/jet-black-plain-full-sleeve-round-neck-men-t-shirt',\n",
       "  'https://www.bewakoof.com/p/mens-black-all-over-printed-oversized-t-shirt',\n",
       "  'https://www.bewakoof.com/p/men-mickey-faces-printed-t-shirt-1',\n",
       "  'https://www.bewakoof.com/p/moon-knight-full-sleeve-t-shirt-men',\n",
       "  'https://www.bewakoof.com/p/friends-logo-full-sleeve-t-shirt-for-men',\n",
       "  'https://www.bewakoof.com/p/make-tracks-full-sleeve-t-shirt-navy-blue',\n",
       "  'https://www.bewakoof.com/p/mens-orange-super-loose-t-shirt-26',\n",
       "  'https://www.bewakoof.com/p/men-snoopy-stripboard-printed-t-shirt-men',\n",
       "  'https://www.bewakoof.com/p/men-tom-chase-printed-t-shirt',\n",
       "  'https://www.bewakoof.com/p/dab-marshmello-black-full-sleeve-t-shirt-for-men',\n",
       "  'https://www.bewakoof.com/p/mens-jet-black-brain-wash-graphic-printed-oversized-t-shirt',\n",
       "  'https://www.bewakoof.com/p/mens-hogwards-text-purple-graphic-printed-oversized-polo-t-shirt-7',\n",
       "  'https://www.bewakoof.com/p/work-hard-box-full-sleeve-t-shirt-for-men',\n",
       "  'https://www.bewakoof.com/p/mens-green-battle-scars-graphic-printed-t-shirt',\n",
       "  'https://www.bewakoof.com/p/mens-black-techno-rave-graphic-printed-oversized-t-shirt',\n",
       "  'https://www.bewakoof.com/p/sinners-oversized-full-sleeve-t-shirt',\n",
       "  'https://www.bewakoof.com/p/mens-black-crestmark-graphic-printed-oversized-t-shirt',\n",
       "  'https://www.bewakoof.com/p/men-oversized-printed-t-shirt-48',\n",
       "  'https://www.bewakoof.com/p/black-mens-full-sleeves-plain-t-shirt-plus-size',\n",
       "  'https://www.bewakoof.com/p/mens-brown-oversized-acid-wash-hooded-t-shirt-45',\n",
       "  'https://www.bewakoof.com/p/batman-outline-logo-full-sleeve-t-shirt-for-men',\n",
       "  'https://www.bewakoof.com/p/navy-blue-plain-full-sleeve-round-neck-men-t-shirt']}"
      ]
     },
     "execution_count": 25,
     "metadata": {},
     "output_type": "execute_result"
    }
   ],
   "source": [
    "cat_dict.pop(\"full_sleve\", None)"
   ]
  },
  {
   "cell_type": "code",
   "execution_count": 26,
   "id": "1c364986",
   "metadata": {
    "ExecuteTime": {
     "end_time": "2024-08-02T22:25:55.496273Z",
     "start_time": "2024-08-02T22:25:55.481836Z"
    }
   },
   "outputs": [
    {
     "data": {
      "text/plain": [
       "dict_keys(['oversized', 'classic', 'polo', 'plain', 'printed'])"
      ]
     },
     "execution_count": 26,
     "metadata": {},
     "output_type": "execute_result"
    }
   ],
   "source": [
    "cat_dict.keys()"
   ]
  },
  {
   "cell_type": "code",
   "execution_count": 27,
   "id": "d217f676",
   "metadata": {
    "ExecuteTime": {
     "end_time": "2024-08-02T22:25:57.274510Z",
     "start_time": "2024-08-02T22:25:57.257380Z"
    }
   },
   "outputs": [],
   "source": [
    "seen_links = set()\n",
    "\n",
    "for cat in cat_dict.keys():\n",
    "    unique_links = []\n",
    "    for link in cat_dict[cat]['each_shirt_link']:\n",
    "        if link not in seen_links:\n",
    "            unique_links.append(link)\n",
    "            seen_links.add(link)\n",
    "    cat_dict[cat]['each_shirt_link'] = unique_links"
   ]
  },
  {
   "cell_type": "code",
   "execution_count": 31,
   "id": "81df0177",
   "metadata": {
    "ExecuteTime": {
     "end_time": "2024-08-02T22:26:25.237281Z",
     "start_time": "2024-08-02T22:26:25.219964Z"
    }
   },
   "outputs": [
    {
     "data": {
      "text/plain": [
       "50"
      ]
     },
     "execution_count": 31,
     "metadata": {},
     "output_type": "execute_result"
    }
   ],
   "source": [
    "len(cat_dict['oversized'][\"each_shirt_link\"])"
   ]
  },
  {
   "cell_type": "code",
   "execution_count": null,
   "id": "9521fec4",
   "metadata": {
    "ExecuteTime": {
     "end_time": "2024-08-02T22:18:46.159340Z",
     "start_time": "2024-08-02T22:18:46.159340Z"
    }
   },
   "outputs": [],
   "source": [
    "driver1 = webdriver.Chrome()"
   ]
  },
  {
   "cell_type": "code",
   "execution_count": null,
   "id": "c032352d",
   "metadata": {
    "ExecuteTime": {
     "end_time": "2024-08-02T22:18:46.160339Z",
     "start_time": "2024-08-02T22:18:46.160339Z"
    }
   },
   "outputs": [],
   "source": [
    "driver1.get('https://www.bewakoof.com/p/men-ginger-root-plain-t-shirt?src=multiple_color')"
   ]
  },
  {
   "cell_type": "code",
   "execution_count": null,
   "id": "957d5038",
   "metadata": {
    "ExecuteTime": {
     "end_time": "2024-08-02T22:18:46.161338Z",
     "start_time": "2024-08-02T22:18:46.161338Z"
    }
   },
   "outputs": [],
   "source": [
    "sizes = [\"S\", \"M\", \"L\", \"XL\", \"2XL\", \"3XL\"]"
   ]
  },
  {
   "cell_type": "code",
   "execution_count": null,
   "id": "e5766f8a",
   "metadata": {
    "ExecuteTime": {
     "end_time": "2024-08-02T22:18:46.162337Z",
     "start_time": "2024-08-02T22:18:46.162337Z"
    }
   },
   "outputs": [],
   "source": [
    "list123=[]"
   ]
  },
  {
   "cell_type": "code",
   "execution_count": null,
   "id": "7a01a4b4",
   "metadata": {
    "ExecuteTime": {
     "end_time": "2024-08-02T22:18:46.163338Z",
     "start_time": "2024-08-02T22:18:46.163338Z"
    }
   },
   "outputs": [],
   "source": [
    "for i in sizes:\n",
    "    \n",
    "    list123.append(driver1.find_element(By.XPATH, value=f\"//div[@id='testSizes_{i}']\").get_attribute(\"class\"))"
   ]
  },
  {
   "cell_type": "code",
   "execution_count": null,
   "id": "89b833a6",
   "metadata": {
    "ExecuteTime": {
     "end_time": "2024-08-02T22:18:46.165340Z",
     "start_time": "2024-08-02T22:18:46.165340Z"
    }
   },
   "outputs": [],
   "source": [
    "list123"
   ]
  },
  {
   "cell_type": "code",
   "execution_count": null,
   "id": "ae53cdd9",
   "metadata": {
    "ExecuteTime": {
     "end_time": "2024-08-02T22:18:46.166333Z",
     "start_time": "2024-08-02T22:18:46.166333Z"
    }
   },
   "outputs": [],
   "source": [
    "cat_dict_local = {\"oversized_links\":[],\n",
    "\"classic_links\":[],\n",
    "\"polo_links\":[],\n",
    "\"plain_links\":[],\n",
    "\"printed_links\":[]}\n",
    "\n",
    "\n",
    "for cat, details in cat_dict.items():\n",
    "    key = f\"{cat}_links\"\n",
    "    if len(details[\"each_shirt_link\"]) > 500:\n",
    "        cat_dict_local[key] = details[\"each_shirt_link\"][:500]\n",
    "    else:\n",
    "        cat_dict_local[key] = details[\"each_shirt_link\"]\n",
    "        \n",
    "    "
   ]
  },
  {
   "cell_type": "code",
   "execution_count": null,
   "id": "cac6198b",
   "metadata": {
    "ExecuteTime": {
     "end_time": "2024-08-02T22:18:46.168336Z",
     "start_time": "2024-08-02T22:18:46.168336Z"
    }
   },
   "outputs": [],
   "source": [
    "driver1.find_elements(by=By.XPATH , value = '//div[@class=\"colorName\"]')[0].text"
   ]
  },
  {
   "cell_type": "code",
   "execution_count": null,
   "id": "6919f2c0",
   "metadata": {
    "ExecuteTime": {
     "end_time": "2024-08-02T22:18:46.169333Z",
     "start_time": "2024-08-02T22:18:46.169333Z"
    }
   },
   "outputs": [],
   "source": [
    "driver = webdriver.Chrome()"
   ]
  },
  {
   "cell_type": "code",
   "execution_count": null,
   "id": "5329b72b",
   "metadata": {
    "ExecuteTime": {
     "end_time": "2024-08-02T22:18:46.171333Z",
     "start_time": "2024-08-02T22:18:46.171333Z"
    }
   },
   "outputs": [],
   "source": [
    "product_id = []\n",
    "category = []\n",
    "brand = []\n",
    "product_name = []\n",
    "price = []\n",
    "og_price =[]\n",
    "rating = []\n",
    "return_time = []\n",
    "stock_availability = []\n",
    "size = []\n",
    "color = []\n",
    "\n",
    "\n",
    "counter = 1\n",
    "\n",
    "for cat, links in cat_dict_local.items():\n",
    "    \n",
    "    for link in links: \n",
    "        driver.get(link)\n",
    "\n",
    "        try:\n",
    "            for i in sizes:\n",
    "                class_of_element = driver.find_element(By.XPATH, value=f\"//div[@id='testSizes_{i}']\")\n",
    "\n",
    "                if class_of_element.get_attribute(\"class\") == 'eachSize\\n                borderRed   ':\n",
    "                    size.append(class_of_element.text)\n",
    "                    stock_availability.append(\"Available\")\n",
    "\n",
    "                elif class_of_element.get_attribute(\"class\") == 'eachSize\\n                false   disableSizeV3':\n",
    "                    size.append(class_of_element.text)\n",
    "                    stock_availability.append(\"Out Of Stock\")\n",
    "\n",
    "                elif class_of_element.get_attribute(\"class\") ==  'eachSize\\n                false   ':\n",
    "                    size.append(class_of_element.text)\n",
    "                    stock_availability.append(\"Available\")\n",
    "\n",
    "                try:    \n",
    "                    product_id.append(f\"BWK{counter}\")\n",
    "                except:\n",
    "                    product_id.append(np.nan)\n",
    "                    \n",
    "                    \n",
    "                try:    \n",
    "                    category.append(cat)\n",
    "                except:\n",
    "                    category.append(np.nan)\n",
    "                    \n",
    "                    \n",
    "\n",
    "                try:    \n",
    "                    brand.append(driver.find_element(by=By.XPATH, value='//h3[@id=\"testProManufacturer\"]').text)\n",
    "                except:\n",
    "                    brand.append(np.nan)\n",
    "\n",
    "\n",
    "                try:    \n",
    "                    product_name.append(driver.find_element(by=By.XPATH, value='//h1[@id=\"testProName\"]').text)\n",
    "                except:\n",
    "                    product_name.append(np.nan)\n",
    "\n",
    "\n",
    "\n",
    "                try:    \n",
    "                    price.append( driver.find_element(by=By.XPATH, value='//span[@class=\"sellingPrice mr-1\"]').text)\n",
    "                except:\n",
    "                    price.append(np.nan)\n",
    "\n",
    "\n",
    "\n",
    "                try:    \n",
    "                    og_price.append(driver.find_element(by=By.XPATH, value='//div[@class=\"discPrice mr-2\"]').text)\n",
    "                except:\n",
    "                    og_price.append(np.nan)\n",
    "\n",
    "\n",
    "\n",
    "                try:    \n",
    "                    color.append(driver.find_elements(by=By.XPATH , value = '//div[@class=\"colorName\"]')[0].text)\n",
    "                except:\n",
    "                    color.append(np.nan)\n",
    "\n",
    "\n",
    "\n",
    "                try:    \n",
    "                    rating.append(driver.find_element(by=By.XPATH, value='//span[@class=\"clr-shade-2\"]').text)\n",
    "                except:\n",
    "                    rating.append(np.nan)\n",
    "\n",
    "\n",
    "\n",
    "                try:    \n",
    "                    return_time.append(driver.find_elements(by=By.XPATH , value = '//div[@class=\"d-flex flex-row pl-1\"]')[1].text)\n",
    "                except:\n",
    "                    return_time.append(np.nan)\n",
    "\n",
    "        except:\n",
    "            pass\n",
    "            \n",
    "        time.sleep(1)\n",
    "\n",
    "    \n",
    "        counter+= 1\n",
    "    "
   ]
  },
  {
   "cell_type": "code",
   "execution_count": null,
   "id": "992d4bb8",
   "metadata": {
    "ExecuteTime": {
     "end_time": "2024-08-02T22:18:46.173332Z",
     "start_time": "2024-08-02T22:18:46.173332Z"
    }
   },
   "outputs": [],
   "source": [
    "raw_df = pd.DataFrame({\n",
    "    'product_id' : product_id,\n",
    "    'category':category,\n",
    "    'brand' : brand,\n",
    "    'product_name' : product_name,\n",
    "    'price' :price,\n",
    "    'og_price' :og_price,\n",
    "    'color' : color,\n",
    "    'size' : size,\n",
    "    \"rating\" : rating,\n",
    "    'return_time' : return_time,\n",
    "    'stock_availability' : stock_availability\n",
    "})"
   ]
  },
  {
   "cell_type": "code",
   "execution_count": null,
   "id": "fe024cb5",
   "metadata": {
    "ExecuteTime": {
     "end_time": "2024-08-02T22:18:46.174333Z",
     "start_time": "2024-08-02T22:18:46.174333Z"
    }
   },
   "outputs": [],
   "source": [
    "raw_df"
   ]
  },
  {
   "cell_type": "code",
   "execution_count": null,
   "id": "b5d47568",
   "metadata": {
    "ExecuteTime": {
     "end_time": "2024-08-02T22:18:46.175333Z",
     "start_time": "2024-08-02T22:18:46.175333Z"
    }
   },
   "outputs": [],
   "source": [
    "raw_df.to_csv('D:/tanay pratap challenge/case 1/Datasets/01. Raw/bewkoof_raw.csv', index=False)"
   ]
  },
  {
   "cell_type": "code",
   "execution_count": 3,
   "id": "7525cb5d",
   "metadata": {
    "ExecuteTime": {
     "end_time": "2024-08-03T05:42:13.756785Z",
     "start_time": "2024-08-03T05:42:13.677757Z"
    }
   },
   "outputs": [
    {
     "data": {
      "text/html": [
       "<div>\n",
       "<style scoped>\n",
       "    .dataframe tbody tr th:only-of-type {\n",
       "        vertical-align: middle;\n",
       "    }\n",
       "\n",
       "    .dataframe tbody tr th {\n",
       "        vertical-align: top;\n",
       "    }\n",
       "\n",
       "    .dataframe thead th {\n",
       "        text-align: right;\n",
       "    }\n",
       "</style>\n",
       "<table border=\"1\" class=\"dataframe\">\n",
       "  <thead>\n",
       "    <tr style=\"text-align: right;\">\n",
       "      <th></th>\n",
       "      <th>product_id</th>\n",
       "      <th>category</th>\n",
       "      <th>brand</th>\n",
       "      <th>product_name</th>\n",
       "      <th>price</th>\n",
       "      <th>og_price</th>\n",
       "      <th>color</th>\n",
       "      <th>size</th>\n",
       "      <th>rating</th>\n",
       "      <th>return_time</th>\n",
       "      <th>stock_availability</th>\n",
       "    </tr>\n",
       "  </thead>\n",
       "  <tbody>\n",
       "    <tr>\n",
       "      <th>0</th>\n",
       "      <td>BWK1</td>\n",
       "      <td>oversized_links</td>\n",
       "      <td>Bewakoof®</td>\n",
       "      <td>Men's Pink Striped Oversized T-shirt</td>\n",
       "      <td>₹678</td>\n",
       "      <td>₹1549</td>\n",
       "      <td>COLOUR OPTIONS:   BLUE-PINK STRIPE</td>\n",
       "      <td>S</td>\n",
       "      <td>4.5</td>\n",
       "      <td>NO RETURNS / EXCHANGE / CANCELLATION</td>\n",
       "      <td>Available</td>\n",
       "    </tr>\n",
       "    <tr>\n",
       "      <th>1</th>\n",
       "      <td>BWK1</td>\n",
       "      <td>oversized_links</td>\n",
       "      <td>Bewakoof®</td>\n",
       "      <td>Men's Pink Striped Oversized T-shirt</td>\n",
       "      <td>₹678</td>\n",
       "      <td>₹1549</td>\n",
       "      <td>COLOUR OPTIONS:   BLUE-PINK STRIPE</td>\n",
       "      <td>M</td>\n",
       "      <td>4.5</td>\n",
       "      <td>NO RETURNS / EXCHANGE / CANCELLATION</td>\n",
       "      <td>Available</td>\n",
       "    </tr>\n",
       "    <tr>\n",
       "      <th>2</th>\n",
       "      <td>BWK1</td>\n",
       "      <td>oversized_links</td>\n",
       "      <td>Bewakoof®</td>\n",
       "      <td>Men's Pink Striped Oversized T-shirt</td>\n",
       "      <td>₹678</td>\n",
       "      <td>₹1549</td>\n",
       "      <td>COLOUR OPTIONS:   BLUE-PINK STRIPE</td>\n",
       "      <td>L</td>\n",
       "      <td>4.5</td>\n",
       "      <td>NO RETURNS / EXCHANGE / CANCELLATION</td>\n",
       "      <td>Available</td>\n",
       "    </tr>\n",
       "    <tr>\n",
       "      <th>3</th>\n",
       "      <td>BWK1</td>\n",
       "      <td>oversized_links</td>\n",
       "      <td>Bewakoof®</td>\n",
       "      <td>Men's Pink Striped Oversized T-shirt</td>\n",
       "      <td>₹678</td>\n",
       "      <td>₹1549</td>\n",
       "      <td>COLOUR OPTIONS:   BLUE-PINK STRIPE</td>\n",
       "      <td>XL</td>\n",
       "      <td>4.5</td>\n",
       "      <td>NO RETURNS / EXCHANGE / CANCELLATION</td>\n",
       "      <td>Available</td>\n",
       "    </tr>\n",
       "    <tr>\n",
       "      <th>4</th>\n",
       "      <td>BWK1</td>\n",
       "      <td>oversized_links</td>\n",
       "      <td>Bewakoof®</td>\n",
       "      <td>Men's Pink Striped Oversized T-shirt</td>\n",
       "      <td>₹678</td>\n",
       "      <td>₹1549</td>\n",
       "      <td>COLOUR OPTIONS:   BLUE-PINK STRIPE</td>\n",
       "      <td>2XL</td>\n",
       "      <td>4.5</td>\n",
       "      <td>NO RETURNS / EXCHANGE / CANCELLATION</td>\n",
       "      <td>Available</td>\n",
       "    </tr>\n",
       "  </tbody>\n",
       "</table>\n",
       "</div>"
      ],
      "text/plain": [
       "  product_id         category      brand  \\\n",
       "0       BWK1  oversized_links  Bewakoof®   \n",
       "1       BWK1  oversized_links  Bewakoof®   \n",
       "2       BWK1  oversized_links  Bewakoof®   \n",
       "3       BWK1  oversized_links  Bewakoof®   \n",
       "4       BWK1  oversized_links  Bewakoof®   \n",
       "\n",
       "                           product_name price og_price  \\\n",
       "0  Men's Pink Striped Oversized T-shirt  ₹678    ₹1549   \n",
       "1  Men's Pink Striped Oversized T-shirt  ₹678    ₹1549   \n",
       "2  Men's Pink Striped Oversized T-shirt  ₹678    ₹1549   \n",
       "3  Men's Pink Striped Oversized T-shirt  ₹678    ₹1549   \n",
       "4  Men's Pink Striped Oversized T-shirt  ₹678    ₹1549   \n",
       "\n",
       "                                color size  rating  \\\n",
       "0  COLOUR OPTIONS:   BLUE-PINK STRIPE    S     4.5   \n",
       "1  COLOUR OPTIONS:   BLUE-PINK STRIPE    M     4.5   \n",
       "2  COLOUR OPTIONS:   BLUE-PINK STRIPE    L     4.5   \n",
       "3  COLOUR OPTIONS:   BLUE-PINK STRIPE   XL     4.5   \n",
       "4  COLOUR OPTIONS:   BLUE-PINK STRIPE  2XL     4.5   \n",
       "\n",
       "                            return_time stock_availability  \n",
       "0  NO RETURNS / EXCHANGE / CANCELLATION          Available  \n",
       "1  NO RETURNS / EXCHANGE / CANCELLATION          Available  \n",
       "2  NO RETURNS / EXCHANGE / CANCELLATION          Available  \n",
       "3  NO RETURNS / EXCHANGE / CANCELLATION          Available  \n",
       "4  NO RETURNS / EXCHANGE / CANCELLATION          Available  "
      ]
     },
     "execution_count": 3,
     "metadata": {},
     "output_type": "execute_result"
    }
   ],
   "source": [
    "pd.read_csv('D:/tanay pratap challenge/case 1/Datasets/01. Raw/bewkoof_raw.csv').head()"
   ]
  },
  {
   "cell_type": "code",
   "execution_count": 1,
   "id": "295450e1",
   "metadata": {
    "ExecuteTime": {
     "end_time": "2024-08-05T16:40:07.678114Z",
     "start_time": "2024-08-05T16:40:07.671916Z"
    }
   },
   "outputs": [
    {
     "data": {
      "text/plain": [
       "260"
      ]
     },
     "execution_count": 1,
     "metadata": {},
     "output_type": "execute_result"
    }
   ],
   "source": [
    "26*10"
   ]
  },
  {
   "cell_type": "code",
   "execution_count": null,
   "id": "7381bf8f",
   "metadata": {},
   "outputs": [],
   "source": []
  }
 ],
 "metadata": {
  "kernelspec": {
   "display_name": "Python 3 (ipykernel)",
   "language": "python",
   "name": "python3"
  },
  "language_info": {
   "codemirror_mode": {
    "name": "ipython",
    "version": 3
   },
   "file_extension": ".py",
   "mimetype": "text/x-python",
   "name": "python",
   "nbconvert_exporter": "python",
   "pygments_lexer": "ipython3",
   "version": "3.11.5"
  },
  "toc": {
   "base_numbering": 1,
   "nav_menu": {},
   "number_sections": true,
   "sideBar": true,
   "skip_h1_title": false,
   "title_cell": "Table of Contents",
   "title_sidebar": "Contents",
   "toc_cell": false,
   "toc_position": {},
   "toc_section_display": true,
   "toc_window_display": false
  },
  "varInspector": {
   "cols": {
    "lenName": 16,
    "lenType": 16,
    "lenVar": 40
   },
   "kernels_config": {
    "python": {
     "delete_cmd_postfix": "",
     "delete_cmd_prefix": "del ",
     "library": "var_list.py",
     "varRefreshCmd": "print(var_dic_list())"
    },
    "r": {
     "delete_cmd_postfix": ") ",
     "delete_cmd_prefix": "rm(",
     "library": "var_list.r",
     "varRefreshCmd": "cat(var_dic_list()) "
    }
   },
   "types_to_exclude": [
    "module",
    "function",
    "builtin_function_or_method",
    "instance",
    "_Feature"
   ],
   "window_display": false
  }
 },
 "nbformat": 4,
 "nbformat_minor": 5
}
