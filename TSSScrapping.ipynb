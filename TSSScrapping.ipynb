{
 "cells": [
  {
   "cell_type": "code",
   "execution_count": 1,
   "id": "40bdd03d",
   "metadata": {
    "ExecuteTime": {
     "end_time": "2024-08-03T05:53:00.644223Z",
     "start_time": "2024-08-03T05:52:59.906533Z"
    }
   },
   "outputs": [],
   "source": [
    "import numpy as np\n",
    "import pandas as pd\n",
    "from bs4 import BeautifulSoup\n",
    "import requests\n",
    "from selenium import webdriver\n",
    "from selenium.webdriver.common.by import By\n",
    "from selenium.webdriver.support.ui import WebDriverWait\n",
    "from selenium.webdriver.support import expected_conditions as EC\n",
    "import time\n",
    "import json\n"
   ]
  },
  {
   "cell_type": "code",
   "execution_count": 37,
   "id": "f8c31097",
   "metadata": {
    "ExecuteTime": {
     "end_time": "2024-08-01T09:52:12.052606Z",
     "start_time": "2024-08-01T09:52:08.141666Z"
    }
   },
   "outputs": [],
   "source": [
    "driver.get('https://www.thesouledstore.com/men/t-shirts')"
   ]
  },
  {
   "cell_type": "code",
   "execution_count": null,
   "id": "93efa718",
   "metadata": {
    "ExecuteTime": {
     "end_time": "2024-08-01T10:27:22.368649Z",
     "start_time": "2024-08-01T10:27:22.368649Z"
    }
   },
   "outputs": [],
   "source": [
    "old_height = driver.execute_script('return document.body.scrollHeight')\n",
    "while True:\n",
    "    driver.execute_script('window.scrollTo(0, document.body.scrollHeight)')\n",
    "    time.sleep(2)\n",
    "    \n",
    "    new_height = driver.execute_script('return document.body.scrollHeight')\n",
    "\n",
    "    \n",
    "    if new_height == old_height:\n",
    "        break\n",
    "    \n",
    "    old_height = new_height"
   ]
  },
  {
   "cell_type": "code",
   "execution_count": 45,
   "id": "2bab1c76",
   "metadata": {
    "ExecuteTime": {
     "end_time": "2024-08-01T10:27:31.607800Z",
     "start_time": "2024-08-01T10:27:25.393957Z"
    }
   },
   "outputs": [],
   "source": [
    "shirt_link = []\n",
    "for i in driver.find_elements(By.XPATH, value='//a[@data-v-2d5b3c05]'):\n",
    "    shirt_link.append(i.get_attribute(\"href\"))"
   ]
  },
  {
   "cell_type": "code",
   "execution_count": 48,
   "id": "73d9ef6b",
   "metadata": {
    "ExecuteTime": {
     "end_time": "2024-08-01T10:28:06.666805Z",
     "start_time": "2024-08-01T10:28:06.650585Z"
    }
   },
   "outputs": [
    {
     "data": {
      "text/plain": [
       "1138"
      ]
     },
     "execution_count": 48,
     "metadata": {},
     "output_type": "execute_result"
    }
   ],
   "source": [
    "len(shirt_link)"
   ]
  },
  {
   "cell_type": "code",
   "execution_count": 50,
   "id": "8a998d9a",
   "metadata": {
    "ExecuteTime": {
     "end_time": "2024-08-01T10:28:18.780002Z",
     "start_time": "2024-08-01T10:28:18.764415Z"
    }
   },
   "outputs": [
    {
     "data": {
      "text/plain": [
       "['https://www.thesouledstore.com/product/deadpool-kill-for-tacos-guys-men-t-shirts?gte=1',\n",
       " 'https://www.thesouledstore.com/product/harry-potter-hogwarts-men-zipper-polos?gte=1',\n",
       " 'https://www.thesouledstore.com/product/naruto-yin-yang-oversized-tshirts?gte=1',\n",
       " 'https://www.thesouledstore.com/product/naruto-itachi-uchiha-oversized-t-shirts?gte=1',\n",
       " 'https://www.thesouledstore.com/product/baki-hanma-you-shouldnt-have-oversized-t-shirts?gte=1']"
      ]
     },
     "execution_count": 50,
     "metadata": {},
     "output_type": "execute_result"
    }
   ],
   "source": [
    "shirt_link"
   ]
  },
  {
   "cell_type": "code",
   "execution_count": 186,
   "id": "343d52d6",
   "metadata": {
    "ExecuteTime": {
     "end_time": "2024-08-01T12:28:01.175198Z",
     "start_time": "2024-08-01T12:28:01.155600Z"
    }
   },
   "outputs": [],
   "source": [
    "with open(\"shirt_link\", \"w\") as f:\n",
    "     for item in shirt_link:\n",
    "        f.write(\"%s\\n\" % item)"
   ]
  },
  {
   "cell_type": "code",
   "execution_count": 176,
   "id": "92f0f89f",
   "metadata": {
    "ExecuteTime": {
     "end_time": "2024-08-01T12:22:25.704831Z",
     "start_time": "2024-08-01T12:22:15.764965Z"
    }
   },
   "outputs": [],
   "source": [
    "driver = webdriver.Chrome()"
   ]
  },
  {
   "cell_type": "code",
   "execution_count": 202,
   "id": "5743f08c",
   "metadata": {
    "ExecuteTime": {
     "end_time": "2024-08-01T13:47:43.183614Z",
     "start_time": "2024-08-01T12:34:29.075132Z"
    },
    "collapsed": true
   },
   "outputs": [
    {
     "ename": "WebDriverException",
     "evalue": "Message: unknown error: net::ERR_CONNECTION_TIMED_OUT\n  (Session info: chrome=122.0.6261.95)\nStacktrace:\n\tGetHandleVerifier [0x00007FF6DE0BAD02+56930]\n\t(No symbol) [0x00007FF6DE02F602]\n\t(No symbol) [0x00007FF6DDEE42E5]\n\t(No symbol) [0x00007FF6DDEE011A]\n\t(No symbol) [0x00007FF6DDED29F4]\n\t(No symbol) [0x00007FF6DDED3D29]\n\t(No symbol) [0x00007FF6DDED2CF3]\n\t(No symbol) [0x00007FF6DDED1EF4]\n\t(No symbol) [0x00007FF6DDED1E11]\n\t(No symbol) [0x00007FF6DDED0625]\n\t(No symbol) [0x00007FF6DDED0EDC]\n\t(No symbol) [0x00007FF6DDEE69FD]\n\t(No symbol) [0x00007FF6DDF68B47]\n\t(No symbol) [0x00007FF6DDF4BC9A]\n\t(No symbol) [0x00007FF6DDF681E2]\n\t(No symbol) [0x00007FF6DDF4BA43]\n\t(No symbol) [0x00007FF6DDF1D438]\n\t(No symbol) [0x00007FF6DDF1E4D1]\n\tGetHandleVerifier [0x00007FF6DE436F8D+3711213]\n\tGetHandleVerifier [0x00007FF6DE4904CD+4077101]\n\tGetHandleVerifier [0x00007FF6DE48865F+4044735]\n\tGetHandleVerifier [0x00007FF6DE159736+706710]\n\t(No symbol) [0x00007FF6DE03B8DF]\n\t(No symbol) [0x00007FF6DE036AC4]\n\t(No symbol) [0x00007FF6DE036C1C]\n\t(No symbol) [0x00007FF6DE0268D4]\n\tBaseThreadInitThunk [0x00007FFC7378257D+29]\n\tRtlUserThreadStart [0x00007FFC7434AF28+40]\n",
     "output_type": "error",
     "traceback": [
      "\u001b[1;31m---------------------------------------------------------------------------\u001b[0m",
      "\u001b[1;31mWebDriverException\u001b[0m                        Traceback (most recent call last)",
      "Cell \u001b[1;32mIn[202], line 12\u001b[0m\n\u001b[0;32m      9\u001b[0m counter \u001b[38;5;241m=\u001b[39m \u001b[38;5;241m1\u001b[39m\n\u001b[0;32m     11\u001b[0m \u001b[38;5;28;01mfor\u001b[39;00m i \u001b[38;5;129;01min\u001b[39;00m shirt_link:\n\u001b[1;32m---> 12\u001b[0m     driver\u001b[38;5;241m.\u001b[39mget(i)\n\u001b[0;32m     14\u001b[0m     \u001b[38;5;28;01mtry\u001b[39;00m:\n\u001b[0;32m     15\u001b[0m         size_elements \u001b[38;5;241m=\u001b[39m driver\u001b[38;5;241m.\u001b[39mfind_elements(By\u001b[38;5;241m.\u001b[39mCSS_SELECTOR, \u001b[38;5;124m\"\u001b[39m\u001b[38;5;124mlabel.strikethrough[style*=\u001b[39m\u001b[38;5;124m'\u001b[39m\u001b[38;5;124mborder-radius: 30px\u001b[39m\u001b[38;5;124m'\u001b[39m\u001b[38;5;124m][style*=\u001b[39m\u001b[38;5;124m'\u001b[39m\u001b[38;5;124mposition: static\u001b[39m\u001b[38;5;124m'\u001b[39m\u001b[38;5;124m]\u001b[39m\u001b[38;5;124m\"\u001b[39m)\n",
      "File \u001b[1;32m~\\AppData\\Local\\anaconda3\\Lib\\site-packages\\selenium\\webdriver\\remote\\webdriver.py:357\u001b[0m, in \u001b[0;36mWebDriver.get\u001b[1;34m(self, url)\u001b[0m\n\u001b[0;32m    355\u001b[0m \u001b[38;5;28;01mdef\u001b[39;00m \u001b[38;5;21mget\u001b[39m(\u001b[38;5;28mself\u001b[39m, url: \u001b[38;5;28mstr\u001b[39m) \u001b[38;5;241m-\u001b[39m\u001b[38;5;241m>\u001b[39m \u001b[38;5;28;01mNone\u001b[39;00m:\n\u001b[0;32m    356\u001b[0m \u001b[38;5;250m    \u001b[39m\u001b[38;5;124;03m\"\"\"Loads a web page in the current browser session.\"\"\"\u001b[39;00m\n\u001b[1;32m--> 357\u001b[0m     \u001b[38;5;28mself\u001b[39m\u001b[38;5;241m.\u001b[39mexecute(Command\u001b[38;5;241m.\u001b[39mGET, {\u001b[38;5;124m\"\u001b[39m\u001b[38;5;124murl\u001b[39m\u001b[38;5;124m\"\u001b[39m: url})\n",
      "File \u001b[1;32m~\\AppData\\Local\\anaconda3\\Lib\\site-packages\\selenium\\webdriver\\remote\\webdriver.py:348\u001b[0m, in \u001b[0;36mWebDriver.execute\u001b[1;34m(self, driver_command, params)\u001b[0m\n\u001b[0;32m    346\u001b[0m response \u001b[38;5;241m=\u001b[39m \u001b[38;5;28mself\u001b[39m\u001b[38;5;241m.\u001b[39mcommand_executor\u001b[38;5;241m.\u001b[39mexecute(driver_command, params)\n\u001b[0;32m    347\u001b[0m \u001b[38;5;28;01mif\u001b[39;00m response:\n\u001b[1;32m--> 348\u001b[0m     \u001b[38;5;28mself\u001b[39m\u001b[38;5;241m.\u001b[39merror_handler\u001b[38;5;241m.\u001b[39mcheck_response(response)\n\u001b[0;32m    349\u001b[0m     response[\u001b[38;5;124m\"\u001b[39m\u001b[38;5;124mvalue\u001b[39m\u001b[38;5;124m\"\u001b[39m] \u001b[38;5;241m=\u001b[39m \u001b[38;5;28mself\u001b[39m\u001b[38;5;241m.\u001b[39m_unwrap_value(response\u001b[38;5;241m.\u001b[39mget(\u001b[38;5;124m\"\u001b[39m\u001b[38;5;124mvalue\u001b[39m\u001b[38;5;124m\"\u001b[39m, \u001b[38;5;28;01mNone\u001b[39;00m))\n\u001b[0;32m    350\u001b[0m     \u001b[38;5;28;01mreturn\u001b[39;00m response\n",
      "File \u001b[1;32m~\\AppData\\Local\\anaconda3\\Lib\\site-packages\\selenium\\webdriver\\remote\\errorhandler.py:229\u001b[0m, in \u001b[0;36mErrorHandler.check_response\u001b[1;34m(self, response)\u001b[0m\n\u001b[0;32m    227\u001b[0m         alert_text \u001b[38;5;241m=\u001b[39m value[\u001b[38;5;124m\"\u001b[39m\u001b[38;5;124malert\u001b[39m\u001b[38;5;124m\"\u001b[39m]\u001b[38;5;241m.\u001b[39mget(\u001b[38;5;124m\"\u001b[39m\u001b[38;5;124mtext\u001b[39m\u001b[38;5;124m\"\u001b[39m)\n\u001b[0;32m    228\u001b[0m     \u001b[38;5;28;01mraise\u001b[39;00m exception_class(message, screen, stacktrace, alert_text)  \u001b[38;5;66;03m# type: ignore[call-arg]  # mypy is not smart enough here\u001b[39;00m\n\u001b[1;32m--> 229\u001b[0m \u001b[38;5;28;01mraise\u001b[39;00m exception_class(message, screen, stacktrace)\n",
      "\u001b[1;31mWebDriverException\u001b[0m: Message: unknown error: net::ERR_CONNECTION_TIMED_OUT\n  (Session info: chrome=122.0.6261.95)\nStacktrace:\n\tGetHandleVerifier [0x00007FF6DE0BAD02+56930]\n\t(No symbol) [0x00007FF6DE02F602]\n\t(No symbol) [0x00007FF6DDEE42E5]\n\t(No symbol) [0x00007FF6DDEE011A]\n\t(No symbol) [0x00007FF6DDED29F4]\n\t(No symbol) [0x00007FF6DDED3D29]\n\t(No symbol) [0x00007FF6DDED2CF3]\n\t(No symbol) [0x00007FF6DDED1EF4]\n\t(No symbol) [0x00007FF6DDED1E11]\n\t(No symbol) [0x00007FF6DDED0625]\n\t(No symbol) [0x00007FF6DDED0EDC]\n\t(No symbol) [0x00007FF6DDEE69FD]\n\t(No symbol) [0x00007FF6DDF68B47]\n\t(No symbol) [0x00007FF6DDF4BC9A]\n\t(No symbol) [0x00007FF6DDF681E2]\n\t(No symbol) [0x00007FF6DDF4BA43]\n\t(No symbol) [0x00007FF6DDF1D438]\n\t(No symbol) [0x00007FF6DDF1E4D1]\n\tGetHandleVerifier [0x00007FF6DE436F8D+3711213]\n\tGetHandleVerifier [0x00007FF6DE4904CD+4077101]\n\tGetHandleVerifier [0x00007FF6DE48865F+4044735]\n\tGetHandleVerifier [0x00007FF6DE159736+706710]\n\t(No symbol) [0x00007FF6DE03B8DF]\n\t(No symbol) [0x00007FF6DE036AC4]\n\t(No symbol) [0x00007FF6DE036C1C]\n\t(No symbol) [0x00007FF6DE0268D4]\n\tBaseThreadInitThunk [0x00007FFC7378257D+29]\n\tRtlUserThreadStart [0x00007FFC7434AF28+40]\n"
     ]
    }
   ],
   "source": [
    "category = []\n",
    "product_id = []\n",
    "product_name = []\n",
    "price = []\n",
    "og_price = []\n",
    "size = []\n",
    "return_time = []\n",
    "\n",
    "counter = 1\n",
    "\n",
    "for i in shirt_link:\n",
    "    driver.get(i)\n",
    "    \n",
    "    try:\n",
    "        size_elements = driver.find_elements(By.CSS_SELECTOR, \"label.strikethrough[style*='border-radius: 30px'][style*='position: static']\")\n",
    "        for j in size_elements:\n",
    "            \n",
    "            product_id.append(f\"TSS{counter}\")\n",
    "            category.append(driver.find_element(By.XPATH, '//h1[@class=\"prod-cat\"]').text)\n",
    "            product_name.append(driver.find_element(By.XPATH, '//h1[@class=\"fbold mb-0 title-size\"]').text)\n",
    "            size.append(j.text)\n",
    "            return_time.append(driver.find_element(By.XPATH, \"//p[@data-v-9294f528][@class='mb-0']\").text) \n",
    "            \n",
    "            try:\n",
    "                price_element = driver.find_element(By.XPATH, '//span[@class=\"offer\"]')\n",
    "                price.append(price_element.text)\n",
    "                og_price_element = driver.find_element(By.CSS_SELECTOR, \"span[data-v-9294f528][style*='text-decoration: line-through']\")\n",
    "                og_price.append(og_price_element.text)\n",
    "            except:\n",
    "                price_text = driver.find_element(By.XPATH, '//span[@class=\"fbold\"]').text\n",
    "                price.append(price_text)\n",
    "                og_price.append(price_text)\n",
    "    except:\n",
    "        pass\n",
    "    \n",
    "    try:\n",
    "        size_elements = driver.find_elements(By.XPATH, '//li[@class=\"oval unselectedSize\"]')\n",
    "        for j in size_elements:\n",
    "            try:\n",
    "                j.click()\n",
    "            except:\n",
    "                pass\n",
    "            \n",
    "            product_id.append(f\"TSS{counter}\")\n",
    "            category.append(driver.find_element(By.XPATH, '//h1[@class=\"prod-cat\"]').text)\n",
    "            product_name.append(driver.find_element(By.XPATH, '//h1[@class=\"fbold mb-0 title-size\"]').text)\n",
    "            size.append(j.text)\n",
    "            return_time.append(driver.find_element(By.XPATH, \"//p[@data-v-9294f528][@class='mb-0']\").text)\n",
    "            \n",
    "            try:\n",
    "                price_element = driver.find_element(By.XPATH, '//span[@class=\"offer\"]')\n",
    "                price.append(price_element.text)\n",
    "                og_price_element = driver.find_element(By.CSS_SELECTOR, \"span[data-v-9294f528][style*='text-decoration: line-through']\")\n",
    "                og_price.append(og_price_element.text)\n",
    "            except:\n",
    "                price_text = driver.find_element(By.XPATH, '//span[@class=\"fbold\"]').text\n",
    "                price.append(price_text)\n",
    "                og_price.append(price_text)\n",
    "\n",
    "    except:\n",
    "        pass\n",
    "    \n",
    "    counter += 1"
   ]
  },
  {
   "cell_type": "code",
   "execution_count": 203,
   "id": "f532b45a",
   "metadata": {
    "ExecuteTime": {
     "end_time": "2024-08-01T13:51:00.442641Z",
     "start_time": "2024-08-01T13:51:00.420194Z"
    }
   },
   "outputs": [],
   "source": [
    "df = pd.DataFrame({'pdroduct_id':product_id,'category':category, \"product_name\":product_name,'size':size, 'price':price,\n",
    "             'og_price':og_price, 'return_time':return_time })"
   ]
  },
  {
   "cell_type": "code",
   "execution_count": 205,
   "id": "5d651997",
   "metadata": {
    "ExecuteTime": {
     "end_time": "2024-08-01T13:51:25.354971Z",
     "start_time": "2024-08-01T13:51:25.299564Z"
    }
   },
   "outputs": [
    {
     "data": {
      "text/plain": [
       "964"
      ]
     },
     "execution_count": 205,
     "metadata": {},
     "output_type": "execute_result"
    }
   ],
   "source": [
    "df.pdroduct_id.nunique()"
   ]
  },
  {
   "cell_type": "code",
   "execution_count": 206,
   "id": "80ba5345",
   "metadata": {
    "ExecuteTime": {
     "end_time": "2024-08-01T13:52:52.575184Z",
     "start_time": "2024-08-01T13:52:52.423567Z"
    }
   },
   "outputs": [],
   "source": [
    "df.to_csv('D:/tanay pratap challenge/case 1/Datasets/01. Raw/thesouledstore_raw.csv', index=False)"
   ]
  },
  {
   "cell_type": "code",
   "execution_count": 3,
   "id": "34095e33",
   "metadata": {
    "ExecuteTime": {
     "end_time": "2024-08-03T05:53:08.772714Z",
     "start_time": "2024-08-03T05:53:08.611742Z"
    }
   },
   "outputs": [
    {
     "data": {
      "text/html": [
       "<div>\n",
       "<style scoped>\n",
       "    .dataframe tbody tr th:only-of-type {\n",
       "        vertical-align: middle;\n",
       "    }\n",
       "\n",
       "    .dataframe tbody tr th {\n",
       "        vertical-align: top;\n",
       "    }\n",
       "\n",
       "    .dataframe thead th {\n",
       "        text-align: right;\n",
       "    }\n",
       "</style>\n",
       "<table border=\"1\" class=\"dataframe\">\n",
       "  <thead>\n",
       "    <tr style=\"text-align: right;\">\n",
       "      <th></th>\n",
       "      <th>Unnamed: 0</th>\n",
       "      <th>pdroduct_id</th>\n",
       "      <th>category</th>\n",
       "      <th>product_name</th>\n",
       "      <th>size</th>\n",
       "      <th>price</th>\n",
       "      <th>og_price</th>\n",
       "      <th>return_time</th>\n",
       "    </tr>\n",
       "  </thead>\n",
       "  <tbody>\n",
       "    <tr>\n",
       "      <th>2600</th>\n",
       "      <td>2600</td>\n",
       "      <td>TSS330</td>\n",
       "      <td>Oversized T-Shirts</td>\n",
       "      <td>Cars: Lightning McQueen</td>\n",
       "      <td>XXXL</td>\n",
       "      <td>₹ 1049</td>\n",
       "      <td>₹ 1049</td>\n",
       "      <td>This product is eligible for return or exchang...</td>\n",
       "    </tr>\n",
       "    <tr>\n",
       "      <th>3443</th>\n",
       "      <td>3443</td>\n",
       "      <td>TSS438</td>\n",
       "      <td>Oversized Polos</td>\n",
       "      <td>Color Block: Cayenne</td>\n",
       "      <td>M</td>\n",
       "      <td>₹ 999</td>\n",
       "      <td>₹ 999</td>\n",
       "      <td>This product is eligible for return or exchang...</td>\n",
       "    </tr>\n",
       "    <tr>\n",
       "      <th>2951</th>\n",
       "      <td>2951</td>\n",
       "      <td>TSS375</td>\n",
       "      <td>T-Shirts</td>\n",
       "      <td>Dungeons &amp; Dragons: Roll</td>\n",
       "      <td>S</td>\n",
       "      <td>₹ 349</td>\n",
       "      <td>₹ 699</td>\n",
       "      <td>This product is eligible for return or exchang...</td>\n",
       "    </tr>\n",
       "    <tr>\n",
       "      <th>3573</th>\n",
       "      <td>3573</td>\n",
       "      <td>TSS454</td>\n",
       "      <td>Oversized T-Shirts</td>\n",
       "      <td>One Piece: Most Wanted</td>\n",
       "      <td>XL</td>\n",
       "      <td>₹ 1049</td>\n",
       "      <td>₹ 1049</td>\n",
       "      <td>This product is eligible for return or exchang...</td>\n",
       "    </tr>\n",
       "    <tr>\n",
       "      <th>2967</th>\n",
       "      <td>2967</td>\n",
       "      <td>TSS377</td>\n",
       "      <td>T-Shirts</td>\n",
       "      <td>Popeye: Fight Time</td>\n",
       "      <td>L</td>\n",
       "      <td>₹ 799</td>\n",
       "      <td>₹ 799</td>\n",
       "      <td>This product is eligible for return or exchang...</td>\n",
       "    </tr>\n",
       "  </tbody>\n",
       "</table>\n",
       "</div>"
      ],
      "text/plain": [
       "      Unnamed: 0 pdroduct_id            category              product_name  \\\n",
       "2600        2600      TSS330  Oversized T-Shirts   Cars: Lightning McQueen   \n",
       "3443        3443      TSS438     Oversized Polos      Color Block: Cayenne   \n",
       "2951        2951      TSS375            T-Shirts  Dungeons & Dragons: Roll   \n",
       "3573        3573      TSS454  Oversized T-Shirts    One Piece: Most Wanted   \n",
       "2967        2967      TSS377            T-Shirts        Popeye: Fight Time   \n",
       "\n",
       "      size   price og_price                                        return_time  \n",
       "2600  XXXL  ₹ 1049   ₹ 1049  This product is eligible for return or exchang...  \n",
       "3443     M   ₹ 999    ₹ 999  This product is eligible for return or exchang...  \n",
       "2951     S   ₹ 349    ₹ 699  This product is eligible for return or exchang...  \n",
       "3573    XL  ₹ 1049   ₹ 1049  This product is eligible for return or exchang...  \n",
       "2967     L   ₹ 799    ₹ 799  This product is eligible for return or exchang...  "
      ]
     },
     "execution_count": 3,
     "metadata": {},
     "output_type": "execute_result"
    }
   ],
   "source": [
    "pd.read_csv('D:/tanay pratap challenge/case 1/Datasets/01. Raw/thesouledstore_raw.csv').sample(5)"
   ]
  },
  {
   "cell_type": "code",
   "execution_count": null,
   "id": "5cc002b2",
   "metadata": {},
   "outputs": [],
   "source": []
  }
 ],
 "metadata": {
  "kernelspec": {
   "display_name": "Python 3 (ipykernel)",
   "language": "python",
   "name": "python3"
  },
  "language_info": {
   "codemirror_mode": {
    "name": "ipython",
    "version": 3
   },
   "file_extension": ".py",
   "mimetype": "text/x-python",
   "name": "python",
   "nbconvert_exporter": "python",
   "pygments_lexer": "ipython3",
   "version": "3.11.5"
  },
  "toc": {
   "base_numbering": 1,
   "nav_menu": {},
   "number_sections": true,
   "sideBar": true,
   "skip_h1_title": false,
   "title_cell": "Table of Contents",
   "title_sidebar": "Contents",
   "toc_cell": false,
   "toc_position": {},
   "toc_section_display": true,
   "toc_window_display": false
  },
  "varInspector": {
   "cols": {
    "lenName": 16,
    "lenType": 16,
    "lenVar": 40
   },
   "kernels_config": {
    "python": {
     "delete_cmd_postfix": "",
     "delete_cmd_prefix": "del ",
     "library": "var_list.py",
     "varRefreshCmd": "print(var_dic_list())"
    },
    "r": {
     "delete_cmd_postfix": ") ",
     "delete_cmd_prefix": "rm(",
     "library": "var_list.r",
     "varRefreshCmd": "cat(var_dic_list()) "
    }
   },
   "types_to_exclude": [
    "module",
    "function",
    "builtin_function_or_method",
    "instance",
    "_Feature"
   ],
   "window_display": false
  }
 },
 "nbformat": 4,
 "nbformat_minor": 5
}
